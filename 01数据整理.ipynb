{
 "cells": [
  {
   "cell_type": "code",
   "execution_count": 1,
   "id": "2f15301a",
   "metadata": {},
   "outputs": [],
   "source": [
    "import os\n",
    "import bz2\n",
    "import pandas as pd\n",
    "path='E:/twit_data/{}/{}/{}/{}'\n",
    "output_path='E:/twit_data/output2/{}_{}_{}_{}.json'\n",
    "year='2018'\n",
    "month='09'\n",
    "day='27'\n",
    "days = [str(d).zfill(2) for d in range(1, 31)]\n",
    "hour='07'\n",
    "hours = [str(h).zfill(2) for h in range(0, 24)]\n",
    "columns_to_drop = ['delete', 'extended_tweet', 'quoted_status_permalink', 'quoted_status',\n",
    "                   'quoted_status_id_str', 'quoted_status_id', 'possibly_sensitive', 'extended_entities',\n",
    "                   'display_text_range', 'retweeted_status', 'filter_level', 'in_reply_to_user_id_str',\n",
    "                   'is_quote_status', 'in_reply_to_screen_name', 'in_reply_to_user_id',\n",
    "                   'in_reply_to_status_id_str', 'geo', 'coordinates', 'contributors', 'id', 'id_str',\n",
    "                   'truncated', 'place', 'in_reply_to_status_id']"
   ]
  },
  {
   "cell_type": "code",
   "execution_count": 2,
   "id": "8851aac5",
   "metadata": {},
   "outputs": [],
   "source": [
    "def contains_hashtag(entities, hashtag):\n",
    "    return any(hashtag_text['text'] == hashtag for hashtag_text in entities['hashtags'])"
   ]
  },
  {
   "cell_type": "code",
   "execution_count": 3,
   "id": "0875913b",
   "metadata": {
    "scrolled": true
   },
   "outputs": [
    {
     "name": "stdout",
     "output_type": "stream",
     "text": [
      "E:/twit_data/output2/2018_11_01_00.json\n",
      "E:/twit_data/output2/2018_11_01_01.json\n",
      "E:/twit_data/output2/2018_11_01_02.json\n",
      "E:/twit_data/output2/2018_11_01_03.json\n",
      "E:/twit_data/output2/2018_11_01_04.json\n",
      "E:/twit_data/output2/2018_11_01_05.json\n",
      "E:/twit_data/output2/2018_11_01_06.json\n",
      "E:/twit_data/output2/2018_11_01_07.json\n",
      "E:/twit_data/output2/2018_11_01_08.json\n",
      "E:/twit_data/output2/2018_11_01_09.json\n",
      "E:/twit_data/output2/2018_11_01_10.json\n",
      "E:/twit_data/output2/2018_11_01_11.json\n",
      "E:/twit_data/output2/2018_11_01_12.json\n",
      "E:/twit_data/output2/2018_11_01_13.json\n",
      "E:/twit_data/output2/2018_11_01_14.json\n",
      "E:/twit_data/output2/2018_11_01_15.json\n",
      "E:/twit_data/output2/2018_11_01_16.json\n",
      "E:/twit_data/output2/2018_11_01_17.json\n",
      "E:/twit_data/output2/2018_11_01_18.json\n",
      "E:/twit_data/output2/2018_11_01_19.json\n",
      "E:/twit_data/output2/2018_11_01_20.json\n",
      "E:/twit_data/output2/2018_11_01_21.json\n",
      "E:/twit_data/output2/2018_11_01_22.json\n",
      "E:/twit_data/output2/2018_11_01_23.json\n",
      "E:/twit_data/output2/2018_11_02_00.json\n",
      "E:/twit_data/output2/2018_11_02_01.json\n",
      "E:/twit_data/output2/2018_11_02_02.json\n",
      "E:/twit_data/output2/2018_11_02_03.json\n",
      "E:/twit_data/output2/2018_11_02_04.json\n",
      "E:/twit_data/output2/2018_11_02_05.json\n",
      "E:/twit_data/output2/2018_11_02_06.json\n",
      "E:/twit_data/output2/2018_11_02_07.json\n",
      "E:/twit_data/output2/2018_11_02_08.json\n",
      "E:/twit_data/output2/2018_11_02_09.json\n",
      "E:/twit_data/output2/2018_11_02_10.json\n",
      "E:/twit_data/output2/2018_11_02_11.json\n",
      "E:/twit_data/output2/2018_11_02_12.json\n",
      "E:/twit_data/output2/2018_11_02_13.json\n",
      "E:/twit_data/output2/2018_11_02_14.json\n",
      "E:/twit_data/output2/2018_11_02_15.json\n",
      "E:/twit_data/output2/2018_11_02_16.json\n",
      "E:/twit_data/output2/2018_11_02_17.json\n",
      "E:/twit_data/output2/2018_11_02_18.json\n",
      "E:/twit_data/output2/2018_11_02_19.json\n",
      "E:/twit_data/output2/2018_11_02_20.json\n",
      "E:/twit_data/output2/2018_11_02_21.json\n",
      "E:/twit_data/output2/2018_11_02_22.json\n",
      "E:/twit_data/output2/2018_11_02_23.json\n",
      "E:/twit_data/output2/2018_11_03_00.json\n",
      "E:/twit_data/output2/2018_11_03_01.json\n",
      "E:/twit_data/output2/2018_11_03_02.json\n",
      "E:/twit_data/output2/2018_11_03_03.json\n",
      "E:/twit_data/output2/2018_11_03_04.json\n",
      "E:/twit_data/output2/2018_11_03_05.json\n",
      "E:/twit_data/output2/2018_11_03_06.json\n",
      "E:/twit_data/output2/2018_11_03_07.json\n",
      "E:/twit_data/output2/2018_11_03_08.json\n",
      "E:/twit_data/output2/2018_11_03_09.json\n",
      "E:/twit_data/output2/2018_11_03_10.json\n",
      "E:/twit_data/output2/2018_11_03_11.json\n",
      "E:/twit_data/output2/2018_11_03_12.json\n",
      "E:/twit_data/output2/2018_11_03_13.json\n",
      "E:/twit_data/output2/2018_11_03_14.json\n",
      "E:/twit_data/output2/2018_11_03_15.json\n",
      "E:/twit_data/output2/2018_11_03_16.json\n",
      "E:/twit_data/output2/2018_11_03_17.json\n",
      "E:/twit_data/output2/2018_11_03_18.json\n",
      "E:/twit_data/output2/2018_11_03_19.json\n",
      "E:/twit_data/output2/2018_11_03_20.json\n",
      "E:/twit_data/output2/2018_11_03_21.json\n",
      "E:/twit_data/output2/2018_11_03_22.json\n",
      "E:/twit_data/output2/2018_11_03_23.json\n"
     ]
    },
    {
     "ename": "FileNotFoundError",
     "evalue": "[WinError 3] 系统找不到指定的路径。: 'E:/twit_data/2018/11/04/00'",
     "output_type": "error",
     "traceback": [
      "\u001b[1;31m---------------------------------------------------------------------------\u001b[0m",
      "\u001b[1;31mFileNotFoundError\u001b[0m                         Traceback (most recent call last)",
      "Cell \u001b[1;32mIn[3], line 3\u001b[0m\n\u001b[0;32m      1\u001b[0m \u001b[38;5;28;01mfor\u001b[39;00m day \u001b[38;5;129;01min\u001b[39;00m days:\n\u001b[0;32m      2\u001b[0m     \u001b[38;5;28;01mfor\u001b[39;00m hour \u001b[38;5;129;01min\u001b[39;00m hours:\n\u001b[1;32m----> 3\u001b[0m         files \u001b[38;5;241m=\u001b[39m \u001b[43mos\u001b[49m\u001b[38;5;241;43m.\u001b[39;49m\u001b[43mlistdir\u001b[49m\u001b[43m(\u001b[49m\u001b[43mpath\u001b[49m\u001b[38;5;241;43m.\u001b[39;49m\u001b[43mformat\u001b[49m\u001b[43m(\u001b[49m\u001b[43myear\u001b[49m\u001b[43m,\u001b[49m\u001b[43mmonth\u001b[49m\u001b[43m,\u001b[49m\u001b[43mday\u001b[49m\u001b[43m,\u001b[49m\u001b[43mhour\u001b[49m\u001b[43m)\u001b[49m\u001b[43m)\u001b[49m\n\u001b[0;32m      4\u001b[0m         dfs\u001b[38;5;241m=\u001b[39m[]\n\u001b[0;32m      5\u001b[0m         bz2_files \u001b[38;5;241m=\u001b[39m [file \u001b[38;5;28;01mfor\u001b[39;00m file \u001b[38;5;129;01min\u001b[39;00m files \u001b[38;5;28;01mif\u001b[39;00m file\u001b[38;5;241m.\u001b[39mendswith(\u001b[38;5;124m'\u001b[39m\u001b[38;5;124m.bz2\u001b[39m\u001b[38;5;124m'\u001b[39m)]\n",
      "\u001b[1;31mFileNotFoundError\u001b[0m: [WinError 3] 系统找不到指定的路径。: 'E:/twit_data/2018/11/04/00'"
     ]
    }
   ],
   "source": [
    "for day in days:\n",
    "    for hour in hours:\n",
    "        files = os.listdir(path.format(year,month,day,hour))\n",
    "        dfs=[]\n",
    "        bz2_files = [file for file in files if file.endswith('.bz2')]\n",
    "        for bz2_file in bz2_files:\n",
    "            file_path = os.path.join(path.format(year,month,day,hour), bz2_file)\n",
    "            df = pd.read_json(file_path, compression='bz2', lines=True)\n",
    "            for column in columns_to_drop:\n",
    "                if column in df.columns:\n",
    "                    df = df.drop(column, axis=1)\n",
    "            df = df[df['lang'].apply(lambda x: x=='en')]\n",
    "            df = df[(df['text'].str.contains(\"odyssey\", case=False)) | \n",
    "                    (df['entities'].apply(lambda x: contains_hashtag(x,'ACOdyssey'))) | (df['entities'].apply(lambda x: contains_hashtag(x,'AssassinsCreedOdyssey')))]\n",
    "            dfs.append(df)        \n",
    "        combined_df = pd.concat(dfs, ignore_index=True)\n",
    "        combined_df.to_json(output_path.format(year,month,day,hour), orient='records')\n",
    "        print(output_path.format(year,month,day,hour))"
   ]
  },
  {
   "cell_type": "code",
   "execution_count": null,
   "id": "7a0dde65",
   "metadata": {},
   "outputs": [],
   "source": []
  }
 ],
 "metadata": {
  "kernelspec": {
   "display_name": "Python 3 (ipykernel)",
   "language": "python",
   "name": "python3"
  },
  "language_info": {
   "codemirror_mode": {
    "name": "ipython",
    "version": 3
   },
   "file_extension": ".py",
   "mimetype": "text/x-python",
   "name": "python",
   "nbconvert_exporter": "python",
   "pygments_lexer": "ipython3",
   "version": "3.8.16"
  }
 },
 "nbformat": 4,
 "nbformat_minor": 5
}
